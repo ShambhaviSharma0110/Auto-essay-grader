{
  "cells": [
    {
      "cell_type": "markdown",
      "metadata": {
        "id": "view-in-github",
        "colab_type": "text"
      },
      "source": [
        "<a href=\"https://colab.research.google.com/github/ShambhaviSharma0110/Auto-essay-grader/blob/main/Classifying_features.ipynb\" target=\"_parent\"><img src=\"https://colab.research.google.com/assets/colab-badge.svg\" alt=\"Open In Colab\"/></a>"
      ]
    },
    {
      "cell_type": "markdown",
      "metadata": {
        "id": "XCp-aMv-pKxb"
      },
      "source": [
        "### CLASSIFYING FEATURES"
      ]
    },
    {
      "cell_type": "markdown",
      "metadata": {
        "id": "6OHlHA1rpKxf"
      },
      "source": [
        "The idea to classify the features comes from the below mentioned paper     \n",
        "Suresh, A., & Jha, M. (2018). Automated essay grading using natural language processing and support vector machine. International Journal of Computing and Technology, 5(2), 18-21."
      ]
    },
    {
      "cell_type": "code",
      "execution_count": 1,
      "metadata": {
        "id": "Jm-hfR__pKxg"
      },
      "outputs": [],
      "source": [
        "import nltk\n",
        "import pandas as pd\n",
        "import numpy as np\n",
        "import matplotlib.pyplot as plt\n",
        "from sklearn.ensemble import RandomForestClassifier\n",
        "from sklearn.model_selection import train_test_split\n",
        "from sklearn.metrics import classification_report\n",
        "from sklearn.model_selection import GridSearchCV"
      ]
    },
    {
      "cell_type": "code",
      "execution_count": 16,
      "metadata": {
        "id": "Jj0FsLDJpKxh"
      },
      "outputs": [],
      "source": [
        "data = pd.read_csv('features.csv')"
      ]
    },
    {
      "cell_type": "code",
      "execution_count": 17,
      "metadata": {
        "colab": {
          "base_uri": "https://localhost:8080/",
          "height": 1000
        },
        "id": "IdD-OUKrpKxh",
        "outputId": "815ae394-db74-4349-e398-0461fb418d58"
      },
      "outputs": [
        {
          "output_type": "execute_result",
          "data": {
            "text/plain": [
              "      essay_id                                              essay  \\\n",
              "0        11827  In this memoir of Narciso Rodriguez, @PERSON3'...   \n",
              "1        11828  Throughout the excerpt from Home the Blueprint...   \n",
              "2        11829  The mood the author created in the memoir is l...   \n",
              "3        11830  The mood created by the author is showing how ...   \n",
              "4        11831  The mood created in the memoir is happiness an...   \n",
              "...        ...                                                ...   \n",
              "1800     13627  The mood of this memoir is nonfiction. The moo...   \n",
              "1801     13628  The mood was created by the author in the memo...   \n",
              "1802     13629  In the memoir \"Narciso Rodriguez\", the mood cr...   \n",
              "1803     13630  The mood created @CAPS3 the author, Narciso Ro...   \n",
              "1804     13631  The author created such a specific mood for th...   \n",
              "\n",
              "      domain1_score  word_count  sent_count  avg_word_len  lemma_count  \\\n",
              "0                 2         133           8      4.383459           81   \n",
              "1                 2         168           7      4.285714          102   \n",
              "2                 3         112           6      4.580357           75   \n",
              "3                 1          75           3      4.226667           44   \n",
              "4                 3         127           8      4.283465           68   \n",
              "...             ...         ...         ...           ...          ...   \n",
              "1800              2         132           7      4.393939           71   \n",
              "1801              0          30           1      4.033333           21   \n",
              "1802              4         166           9      4.421687           93   \n",
              "1803              3         132           6      4.492424           86   \n",
              "1804              2          95           6      4.326316           62   \n",
              "\n",
              "      spell_err_count  noun_count  adj_count  verb_count  adv_count  \\\n",
              "0            0.067669    0.255639   0.030075    0.218045   0.022556   \n",
              "1            0.011905    0.220238   0.083333    0.184524   0.071429   \n",
              "2            0.080357    0.321429   0.080357    0.169643   0.035714   \n",
              "3            0.146667    0.240000   0.106667    0.200000   0.013333   \n",
              "4            0.047244    0.228346   0.086614    0.173228   0.070866   \n",
              "...               ...         ...        ...         ...        ...   \n",
              "1800         0.015152    0.318182   0.053030    0.174242   0.037879   \n",
              "1801         0.133333    0.333333   0.000000    0.166667   0.000000   \n",
              "1802         0.066265    0.246988   0.114458    0.222892   0.012048   \n",
              "1803         0.090909    0.318182   0.037879    0.166667   0.060606   \n",
              "1804         0.073684    0.231579   0.042105    0.168421   0.073684   \n",
              "\n",
              "      neg_score  pos_score  nue_score  similarity  \n",
              "0         0.000      0.153      0.847    0.102273  \n",
              "1         0.009      0.189      0.802    0.098348  \n",
              "2         0.000      0.205      0.795    0.169553  \n",
              "3         0.030      0.138      0.832    0.034662  \n",
              "4         0.000      0.260      0.740    0.158431  \n",
              "...         ...        ...        ...         ...  \n",
              "1800      0.000      0.203      0.797    0.106523  \n",
              "1801      0.000      0.148      0.852    0.061781  \n",
              "1802      0.000      0.239      0.761    0.103630  \n",
              "1803      0.000      0.195      0.805    0.165012  \n",
              "1804      0.000      0.221      0.779    0.091583  \n",
              "\n",
              "[1805 rows x 16 columns]"
            ],
            "text/html": [
              "\n",
              "  <div id=\"df-f771ba49-d12e-4826-bb85-3f8402fb1487\">\n",
              "    <div class=\"colab-df-container\">\n",
              "      <div>\n",
              "<style scoped>\n",
              "    .dataframe tbody tr th:only-of-type {\n",
              "        vertical-align: middle;\n",
              "    }\n",
              "\n",
              "    .dataframe tbody tr th {\n",
              "        vertical-align: top;\n",
              "    }\n",
              "\n",
              "    .dataframe thead th {\n",
              "        text-align: right;\n",
              "    }\n",
              "</style>\n",
              "<table border=\"1\" class=\"dataframe\">\n",
              "  <thead>\n",
              "    <tr style=\"text-align: right;\">\n",
              "      <th></th>\n",
              "      <th>essay_id</th>\n",
              "      <th>essay</th>\n",
              "      <th>domain1_score</th>\n",
              "      <th>word_count</th>\n",
              "      <th>sent_count</th>\n",
              "      <th>avg_word_len</th>\n",
              "      <th>lemma_count</th>\n",
              "      <th>spell_err_count</th>\n",
              "      <th>noun_count</th>\n",
              "      <th>adj_count</th>\n",
              "      <th>verb_count</th>\n",
              "      <th>adv_count</th>\n",
              "      <th>neg_score</th>\n",
              "      <th>pos_score</th>\n",
              "      <th>nue_score</th>\n",
              "      <th>similarity</th>\n",
              "    </tr>\n",
              "  </thead>\n",
              "  <tbody>\n",
              "    <tr>\n",
              "      <th>0</th>\n",
              "      <td>11827</td>\n",
              "      <td>In this memoir of Narciso Rodriguez, @PERSON3'...</td>\n",
              "      <td>2</td>\n",
              "      <td>133</td>\n",
              "      <td>8</td>\n",
              "      <td>4.383459</td>\n",
              "      <td>81</td>\n",
              "      <td>0.067669</td>\n",
              "      <td>0.255639</td>\n",
              "      <td>0.030075</td>\n",
              "      <td>0.218045</td>\n",
              "      <td>0.022556</td>\n",
              "      <td>0.000</td>\n",
              "      <td>0.153</td>\n",
              "      <td>0.847</td>\n",
              "      <td>0.102273</td>\n",
              "    </tr>\n",
              "    <tr>\n",
              "      <th>1</th>\n",
              "      <td>11828</td>\n",
              "      <td>Throughout the excerpt from Home the Blueprint...</td>\n",
              "      <td>2</td>\n",
              "      <td>168</td>\n",
              "      <td>7</td>\n",
              "      <td>4.285714</td>\n",
              "      <td>102</td>\n",
              "      <td>0.011905</td>\n",
              "      <td>0.220238</td>\n",
              "      <td>0.083333</td>\n",
              "      <td>0.184524</td>\n",
              "      <td>0.071429</td>\n",
              "      <td>0.009</td>\n",
              "      <td>0.189</td>\n",
              "      <td>0.802</td>\n",
              "      <td>0.098348</td>\n",
              "    </tr>\n",
              "    <tr>\n",
              "      <th>2</th>\n",
              "      <td>11829</td>\n",
              "      <td>The mood the author created in the memoir is l...</td>\n",
              "      <td>3</td>\n",
              "      <td>112</td>\n",
              "      <td>6</td>\n",
              "      <td>4.580357</td>\n",
              "      <td>75</td>\n",
              "      <td>0.080357</td>\n",
              "      <td>0.321429</td>\n",
              "      <td>0.080357</td>\n",
              "      <td>0.169643</td>\n",
              "      <td>0.035714</td>\n",
              "      <td>0.000</td>\n",
              "      <td>0.205</td>\n",
              "      <td>0.795</td>\n",
              "      <td>0.169553</td>\n",
              "    </tr>\n",
              "    <tr>\n",
              "      <th>3</th>\n",
              "      <td>11830</td>\n",
              "      <td>The mood created by the author is showing how ...</td>\n",
              "      <td>1</td>\n",
              "      <td>75</td>\n",
              "      <td>3</td>\n",
              "      <td>4.226667</td>\n",
              "      <td>44</td>\n",
              "      <td>0.146667</td>\n",
              "      <td>0.240000</td>\n",
              "      <td>0.106667</td>\n",
              "      <td>0.200000</td>\n",
              "      <td>0.013333</td>\n",
              "      <td>0.030</td>\n",
              "      <td>0.138</td>\n",
              "      <td>0.832</td>\n",
              "      <td>0.034662</td>\n",
              "    </tr>\n",
              "    <tr>\n",
              "      <th>4</th>\n",
              "      <td>11831</td>\n",
              "      <td>The mood created in the memoir is happiness an...</td>\n",
              "      <td>3</td>\n",
              "      <td>127</td>\n",
              "      <td>8</td>\n",
              "      <td>4.283465</td>\n",
              "      <td>68</td>\n",
              "      <td>0.047244</td>\n",
              "      <td>0.228346</td>\n",
              "      <td>0.086614</td>\n",
              "      <td>0.173228</td>\n",
              "      <td>0.070866</td>\n",
              "      <td>0.000</td>\n",
              "      <td>0.260</td>\n",
              "      <td>0.740</td>\n",
              "      <td>0.158431</td>\n",
              "    </tr>\n",
              "    <tr>\n",
              "      <th>...</th>\n",
              "      <td>...</td>\n",
              "      <td>...</td>\n",
              "      <td>...</td>\n",
              "      <td>...</td>\n",
              "      <td>...</td>\n",
              "      <td>...</td>\n",
              "      <td>...</td>\n",
              "      <td>...</td>\n",
              "      <td>...</td>\n",
              "      <td>...</td>\n",
              "      <td>...</td>\n",
              "      <td>...</td>\n",
              "      <td>...</td>\n",
              "      <td>...</td>\n",
              "      <td>...</td>\n",
              "      <td>...</td>\n",
              "    </tr>\n",
              "    <tr>\n",
              "      <th>1800</th>\n",
              "      <td>13627</td>\n",
              "      <td>The mood of this memoir is nonfiction. The moo...</td>\n",
              "      <td>2</td>\n",
              "      <td>132</td>\n",
              "      <td>7</td>\n",
              "      <td>4.393939</td>\n",
              "      <td>71</td>\n",
              "      <td>0.015152</td>\n",
              "      <td>0.318182</td>\n",
              "      <td>0.053030</td>\n",
              "      <td>0.174242</td>\n",
              "      <td>0.037879</td>\n",
              "      <td>0.000</td>\n",
              "      <td>0.203</td>\n",
              "      <td>0.797</td>\n",
              "      <td>0.106523</td>\n",
              "    </tr>\n",
              "    <tr>\n",
              "      <th>1801</th>\n",
              "      <td>13628</td>\n",
              "      <td>The mood was created by the author in the memo...</td>\n",
              "      <td>0</td>\n",
              "      <td>30</td>\n",
              "      <td>1</td>\n",
              "      <td>4.033333</td>\n",
              "      <td>21</td>\n",
              "      <td>0.133333</td>\n",
              "      <td>0.333333</td>\n",
              "      <td>0.000000</td>\n",
              "      <td>0.166667</td>\n",
              "      <td>0.000000</td>\n",
              "      <td>0.000</td>\n",
              "      <td>0.148</td>\n",
              "      <td>0.852</td>\n",
              "      <td>0.061781</td>\n",
              "    </tr>\n",
              "    <tr>\n",
              "      <th>1802</th>\n",
              "      <td>13629</td>\n",
              "      <td>In the memoir \"Narciso Rodriguez\", the mood cr...</td>\n",
              "      <td>4</td>\n",
              "      <td>166</td>\n",
              "      <td>9</td>\n",
              "      <td>4.421687</td>\n",
              "      <td>93</td>\n",
              "      <td>0.066265</td>\n",
              "      <td>0.246988</td>\n",
              "      <td>0.114458</td>\n",
              "      <td>0.222892</td>\n",
              "      <td>0.012048</td>\n",
              "      <td>0.000</td>\n",
              "      <td>0.239</td>\n",
              "      <td>0.761</td>\n",
              "      <td>0.103630</td>\n",
              "    </tr>\n",
              "    <tr>\n",
              "      <th>1803</th>\n",
              "      <td>13630</td>\n",
              "      <td>The mood created @CAPS3 the author, Narciso Ro...</td>\n",
              "      <td>3</td>\n",
              "      <td>132</td>\n",
              "      <td>6</td>\n",
              "      <td>4.492424</td>\n",
              "      <td>86</td>\n",
              "      <td>0.090909</td>\n",
              "      <td>0.318182</td>\n",
              "      <td>0.037879</td>\n",
              "      <td>0.166667</td>\n",
              "      <td>0.060606</td>\n",
              "      <td>0.000</td>\n",
              "      <td>0.195</td>\n",
              "      <td>0.805</td>\n",
              "      <td>0.165012</td>\n",
              "    </tr>\n",
              "    <tr>\n",
              "      <th>1804</th>\n",
              "      <td>13631</td>\n",
              "      <td>The author created such a specific mood for th...</td>\n",
              "      <td>2</td>\n",
              "      <td>95</td>\n",
              "      <td>6</td>\n",
              "      <td>4.326316</td>\n",
              "      <td>62</td>\n",
              "      <td>0.073684</td>\n",
              "      <td>0.231579</td>\n",
              "      <td>0.042105</td>\n",
              "      <td>0.168421</td>\n",
              "      <td>0.073684</td>\n",
              "      <td>0.000</td>\n",
              "      <td>0.221</td>\n",
              "      <td>0.779</td>\n",
              "      <td>0.091583</td>\n",
              "    </tr>\n",
              "  </tbody>\n",
              "</table>\n",
              "<p>1805 rows × 16 columns</p>\n",
              "</div>\n",
              "      <button class=\"colab-df-convert\" onclick=\"convertToInteractive('df-f771ba49-d12e-4826-bb85-3f8402fb1487')\"\n",
              "              title=\"Convert this dataframe to an interactive table.\"\n",
              "              style=\"display:none;\">\n",
              "        \n",
              "  <svg xmlns=\"http://www.w3.org/2000/svg\" height=\"24px\"viewBox=\"0 0 24 24\"\n",
              "       width=\"24px\">\n",
              "    <path d=\"M0 0h24v24H0V0z\" fill=\"none\"/>\n",
              "    <path d=\"M18.56 5.44l.94 2.06.94-2.06 2.06-.94-2.06-.94-.94-2.06-.94 2.06-2.06.94zm-11 1L8.5 8.5l.94-2.06 2.06-.94-2.06-.94L8.5 2.5l-.94 2.06-2.06.94zm10 10l.94 2.06.94-2.06 2.06-.94-2.06-.94-.94-2.06-.94 2.06-2.06.94z\"/><path d=\"M17.41 7.96l-1.37-1.37c-.4-.4-.92-.59-1.43-.59-.52 0-1.04.2-1.43.59L10.3 9.45l-7.72 7.72c-.78.78-.78 2.05 0 2.83L4 21.41c.39.39.9.59 1.41.59.51 0 1.02-.2 1.41-.59l7.78-7.78 2.81-2.81c.8-.78.8-2.07 0-2.86zM5.41 20L4 18.59l7.72-7.72 1.47 1.35L5.41 20z\"/>\n",
              "  </svg>\n",
              "      </button>\n",
              "      \n",
              "  <style>\n",
              "    .colab-df-container {\n",
              "      display:flex;\n",
              "      flex-wrap:wrap;\n",
              "      gap: 12px;\n",
              "    }\n",
              "\n",
              "    .colab-df-convert {\n",
              "      background-color: #E8F0FE;\n",
              "      border: none;\n",
              "      border-radius: 50%;\n",
              "      cursor: pointer;\n",
              "      display: none;\n",
              "      fill: #1967D2;\n",
              "      height: 32px;\n",
              "      padding: 0 0 0 0;\n",
              "      width: 32px;\n",
              "    }\n",
              "\n",
              "    .colab-df-convert:hover {\n",
              "      background-color: #E2EBFA;\n",
              "      box-shadow: 0px 1px 2px rgba(60, 64, 67, 0.3), 0px 1px 3px 1px rgba(60, 64, 67, 0.15);\n",
              "      fill: #174EA6;\n",
              "    }\n",
              "\n",
              "    [theme=dark] .colab-df-convert {\n",
              "      background-color: #3B4455;\n",
              "      fill: #D2E3FC;\n",
              "    }\n",
              "\n",
              "    [theme=dark] .colab-df-convert:hover {\n",
              "      background-color: #434B5C;\n",
              "      box-shadow: 0px 1px 3px 1px rgba(0, 0, 0, 0.15);\n",
              "      filter: drop-shadow(0px 1px 2px rgba(0, 0, 0, 0.3));\n",
              "      fill: #FFFFFF;\n",
              "    }\n",
              "  </style>\n",
              "\n",
              "      <script>\n",
              "        const buttonEl =\n",
              "          document.querySelector('#df-f771ba49-d12e-4826-bb85-3f8402fb1487 button.colab-df-convert');\n",
              "        buttonEl.style.display =\n",
              "          google.colab.kernel.accessAllowed ? 'block' : 'none';\n",
              "\n",
              "        async function convertToInteractive(key) {\n",
              "          const element = document.querySelector('#df-f771ba49-d12e-4826-bb85-3f8402fb1487');\n",
              "          const dataTable =\n",
              "            await google.colab.kernel.invokeFunction('convertToInteractive',\n",
              "                                                     [key], {});\n",
              "          if (!dataTable) return;\n",
              "\n",
              "          const docLinkHtml = 'Like what you see? Visit the ' +\n",
              "            '<a target=\"_blank\" href=https://colab.research.google.com/notebooks/data_table.ipynb>data table notebook</a>'\n",
              "            + ' to learn more about interactive tables.';\n",
              "          element.innerHTML = '';\n",
              "          dataTable['output_type'] = 'display_data';\n",
              "          await google.colab.output.renderOutput(dataTable, element);\n",
              "          const docLink = document.createElement('div');\n",
              "          docLink.innerHTML = docLinkHtml;\n",
              "          element.appendChild(docLink);\n",
              "        }\n",
              "      </script>\n",
              "    </div>\n",
              "  </div>\n",
              "  "
            ]
          },
          "metadata": {},
          "execution_count": 17
        }
      ],
      "source": [
        "data"
      ]
    },
    {
      "cell_type": "code",
      "source": [
        "#data.replace([np.inf, -np.inf], np.nan, inplace=True)"
      ],
      "metadata": {
        "id": "V7JPZa-ECLhj"
      },
      "execution_count": 14,
      "outputs": []
    },
    {
      "cell_type": "code",
      "execution_count": 18,
      "metadata": {
        "id": "m2leuvbdpKxi"
      },
      "outputs": [],
      "source": [
        "X=data.iloc[:,3:]\n",
        "y=data.iloc[:,2]"
      ]
    },
    {
      "cell_type": "code",
      "execution_count": 19,
      "metadata": {
        "id": "R9skw5BPpKxi"
      },
      "outputs": [],
      "source": [
        "X_train, X_test , y_train, y_test = train_test_split(X ,y, test_size=0.18 , random_state=0)"
      ]
    },
    {
      "cell_type": "markdown",
      "metadata": {
        "id": "2u0Jz36rpKxj"
      },
      "source": [
        "#### RANDOM FOREST CLASSIFIER"
      ]
    },
    {
      "cell_type": "code",
      "execution_count": 25,
      "metadata": {
        "id": "Ys7nv1azpKxj"
      },
      "outputs": [],
      "source": [
        "rf = RandomForestClassifier(class_weight='balanced_subsample')"
      ]
    },
    {
      "cell_type": "code",
      "execution_count": 26,
      "metadata": {
        "id": "oA6-7mg2pKxj"
      },
      "outputs": [],
      "source": [
        "rf_params = {'n_estimators':list(range(20,200,10)),\n",
        "                'max_depth':list(range(2,14,1))}"
      ]
    },
    {
      "cell_type": "code",
      "execution_count": 27,
      "metadata": {
        "id": "DEODgi-spKxk"
      },
      "outputs": [],
      "source": [
        "import sklearn.metrics\n",
        "from sklearn.metrics import make_scorer\n",
        "scorer = sklearn.metrics.make_scorer(sklearn.metrics.f1_score, average = 'macro')\n",
        "rf_random=GridSearchCV(estimator = rf, param_grid  = rf_params, cv = 5, verbose=2,  n_jobs = 2, scoring=scorer)"
      ]
    },
    {
      "cell_type": "code",
      "execution_count": 28,
      "metadata": {
        "colab": {
          "base_uri": "https://localhost:8080/"
        },
        "id": "9EHxLhcIpKxk",
        "outputId": "2f91a52d-2dc0-41e3-b575-021c3ea3899b"
      },
      "outputs": [
        {
          "output_type": "stream",
          "name": "stdout",
          "text": [
            "Fitting 5 folds for each of 216 candidates, totalling 1080 fits\n"
          ]
        },
        {
          "output_type": "execute_result",
          "data": {
            "text/plain": [
              "GridSearchCV(cv=5,\n",
              "             estimator=RandomForestClassifier(class_weight='balanced_subsample'),\n",
              "             n_jobs=2,\n",
              "             param_grid={'max_depth': [2, 3, 4, 5, 6, 7, 8, 9, 10, 11, 12, 13],\n",
              "                         'n_estimators': [20, 30, 40, 50, 60, 70, 80, 90, 100,\n",
              "                                          110, 120, 130, 140, 150, 160, 170,\n",
              "                                          180, 190]},\n",
              "             scoring=make_scorer(f1_score, average=macro), verbose=2)"
            ]
          },
          "metadata": {},
          "execution_count": 28
        }
      ],
      "source": [
        "rf_random.fit(X_train, y_train)"
      ]
    },
    {
      "cell_type": "code",
      "execution_count": 29,
      "metadata": {
        "colab": {
          "base_uri": "https://localhost:8080/"
        },
        "id": "bE9wJ16CpKxl",
        "outputId": "f605cd80-57f4-4c38-86bd-55b96e61296a"
      },
      "outputs": [
        {
          "output_type": "execute_result",
          "data": {
            "text/plain": [
              "RandomForestClassifier(class_weight='balanced_subsample', max_depth=5,\n",
              "                       n_estimators=110, random_state=0)"
            ]
          },
          "metadata": {},
          "execution_count": 29
        }
      ],
      "source": [
        "rf_final = RandomForestClassifier(random_state=0, n_estimators=rf_random.best_params_['n_estimators'], max_depth=rf_random.best_params_['max_depth'],class_weight='balanced_subsample')\n",
        "rf_final.fit(X_train, y_train)"
      ]
    },
    {
      "cell_type": "code",
      "execution_count": 30,
      "metadata": {
        "id": "V5J5TzTepKxl"
      },
      "outputs": [],
      "source": [
        "X_pred = rf_final.predict(X_test)"
      ]
    },
    {
      "cell_type": "code",
      "execution_count": 31,
      "metadata": {
        "colab": {
          "base_uri": "https://localhost:8080/"
        },
        "id": "QnWoOb84pKxm",
        "outputId": "79b40487-4901-4cd1-9525-c7dfe8f8e3d4"
      },
      "outputs": [
        {
          "output_type": "stream",
          "name": "stdout",
          "text": [
            "              precision    recall  f1-score   support\n",
            "\n",
            "           0      0.200     0.500     0.286         2\n",
            "           1      0.745     0.594     0.661        69\n",
            "           2      0.554     0.713     0.623        87\n",
            "           3      0.713     0.673     0.692       107\n",
            "           4      0.808     0.700     0.750        60\n",
            "\n",
            "    accuracy                          0.671       325\n",
            "   macro avg      0.604     0.636     0.602       325\n",
            "weighted avg      0.691     0.671     0.675       325\n",
            "\n"
          ]
        }
      ],
      "source": [
        "report = classification_report(X_pred,y_test,digits=3)\n",
        "print(report)"
      ]
    },
    {
      "cell_type": "code",
      "execution_count": 32,
      "metadata": {
        "id": "-uc3hRwcpKxm"
      },
      "outputs": [],
      "source": [
        "from sklearn.metrics import confusion_matrix\n",
        "cm = confusion_matrix(y_test, X_pred)"
      ]
    },
    {
      "cell_type": "code",
      "execution_count": 33,
      "metadata": {
        "colab": {
          "base_uri": "https://localhost:8080/",
          "height": 283
        },
        "id": "wp4WlYTPpKxn",
        "outputId": "35465f47-70f7-4c44-8837-08ea7e282df0"
      },
      "outputs": [
        {
          "output_type": "execute_result",
          "data": {
            "text/plain": [
              "<matplotlib.axes._subplots.AxesSubplot at 0x7eff683b4f10>"
            ]
          },
          "metadata": {},
          "execution_count": 33
        },
        {
          "output_type": "display_data",
          "data": {
            "text/plain": [
              "<Figure size 432x288 with 2 Axes>"
            ],
            "image/png": "[encoded data removed]"
          },
          "metadata": {
            "needs_background": "light"
          }
        }
      ],
      "source": [
        "import seaborn as sns\n",
        "sns.heatmap(cm, annot=True)"
      ]
    },
    {
      "cell_type": "code",
      "execution_count": 34,
      "metadata": {
        "colab": {
          "base_uri": "https://localhost:8080/"
        },
        "id": "XhzXq28ppKxq",
        "outputId": "79a05b48-699a-4897-c9fe-022c43875b8b"
      },
      "outputs": [
        {
          "output_type": "execute_result",
          "data": {
            "text/plain": [
              "0.6707692307692308"
            ]
          },
          "metadata": {},
          "execution_count": 34
        }
      ],
      "source": [
        "from sklearn.metrics import accuracy_score\n",
        "accuracy_score(y_test, X_pred)"
      ]
    },
    {
      "cell_type": "markdown",
      "metadata": {
        "id": "I95zHgb8pKxq"
      },
      "source": [
        "#### XGB CLASSIFIER "
      ]
    },
    {
      "cell_type": "code",
      "execution_count": 35,
      "metadata": {
        "id": "pT6iMe0OpKxq"
      },
      "outputs": [],
      "source": [
        "import xgboost as xgb\n",
        "from xgboost import XGBClassifier"
      ]
    },
    {
      "cell_type": "code",
      "execution_count": 36,
      "metadata": {
        "id": "ieO1nKQepKxq"
      },
      "outputs": [],
      "source": [
        "xgb_clf = XGBClassifier(tree_method = \"exact\", predictor = \"cpu_predictor\",\n",
        "                            objective = \"multi:softmax\")"
      ]
    },
    {
      "cell_type": "code",
      "execution_count": 37,
      "metadata": {
        "id": "KxPmVoSvpKxr"
      },
      "outputs": [],
      "source": [
        "parameters = {\"learning_rate\": [0.1, 0.01, 0.001],\n",
        "               \"gamma\" : [0.01, 0.1, 0.3, 0.5, 1, 1.5, 2],\n",
        "               \"max_depth\": [2, 4, 7, 10],\n",
        "               \"colsample_bytree\": [0.3, 0.6, 0.8, 1.0],\n",
        "               \"subsample\": [0.2, 0.4, 0.5, 0.6, 0.7],\n",
        "               \"reg_alpha\": [0, 0.5, 1],\n",
        "               \"reg_lambda\": [1, 1.5, 2, 3, 4.5],\n",
        "               \"min_child_weight\": [1, 3, 5, 7],\n",
        "               \"n_estimators\": [100, 250, 500, 1000]}\n",
        "# subsample: Denotes the subsample ratio of columns for each split, in each level.\n",
        "# colsample_bytree: Denotes the fraction of columns to be randomly samples for each tree.\n",
        "# gamma: Gamma specifies the minimum loss reduction required to make a split.\n",
        "# reg_alpha: Lasso L1 regularization\n",
        "# reg_lambda: Ridge L2 reguralarization"
      ]
    },
    {
      "cell_type": "code",
      "execution_count": 38,
      "metadata": {
        "id": "UX-i6jx7pKxr"
      },
      "outputs": [],
      "source": [
        "from sklearn.model_selection import RandomizedSearchCV\n",
        "# Create RandomizedSearchCV Object\n",
        "xgb_rscv = RandomizedSearchCV(xgb_clf, param_distributions = parameters, scoring = \"f1_micro\",\n",
        "                             cv = 10, verbose = 3, random_state = 40 )"
      ]
    },
    {
      "cell_type": "code",
      "execution_count": 39,
      "metadata": {
        "colab": {
          "base_uri": "https://localhost:8080/"
        },
        "id": "HoH1TwBYpKxr",
        "outputId": "17defe42-9a50-4676-8241-abbc8d6179f7"
      },
      "outputs": [
        {
          "output_type": "stream",
          "name": "stdout",
          "text": [
            "Fitting 10 folds for each of 10 candidates, totalling 100 fits\n",
            "[CV 1/10] END colsample_bytree=1.0, gamma=1.5, learning_rate=0.1, max_depth=2, min_child_weight=5, n_estimators=100, reg_alpha=0, reg_lambda=1, subsample=0.6;, score=0.716 total time=   0.5s\n",
            "[CV 2/10] END colsample_bytree=1.0, gamma=1.5, learning_rate=0.1, max_depth=2, min_child_weight=5, n_estimators=100, reg_alpha=0, reg_lambda=1, subsample=0.6;, score=0.696 total time=   0.5s\n",
            "[CV 3/10] END colsample_bytree=1.0, gamma=1.5, learning_rate=0.1, max_depth=2, min_child_weight=5, n_estimators=100, reg_alpha=0, reg_lambda=1, subsample=0.6;, score=0.682 total time=   0.4s\n",
            "[CV 4/10] END colsample_bytree=1.0, gamma=1.5, learning_rate=0.1, max_depth=2, min_child_weight=5, n_estimators=100, reg_alpha=0, reg_lambda=1, subsample=0.6;, score=0.655 total time=   0.4s\n",
            "[CV 5/10] END colsample_bytree=1.0, gamma=1.5, learning_rate=0.1, max_depth=2, min_child_weight=5, n_estimators=100, reg_alpha=0, reg_lambda=1, subsample=0.6;, score=0.649 total time=   0.4s\n",
            "[CV 6/10] END colsample_bytree=1.0, gamma=1.5, learning_rate=0.1, max_depth=2, min_child_weight=5, n_estimators=100, reg_alpha=0, reg_lambda=1, subsample=0.6;, score=0.696 total time=   0.4s\n",
            "[CV 7/10] END colsample_bytree=1.0, gamma=1.5, learning_rate=0.1, max_depth=2, min_child_weight=5, n_estimators=100, reg_alpha=0, reg_lambda=1, subsample=0.6;, score=0.635 total time=   0.4s\n",
            "[CV 8/10] END colsample_bytree=1.0, gamma=1.5, learning_rate=0.1, max_depth=2, min_child_weight=5, n_estimators=100, reg_alpha=0, reg_lambda=1, subsample=0.6;, score=0.689 total time=   0.4s\n",
            "[CV 9/10] END colsample_bytree=1.0, gamma=1.5, learning_rate=0.1, max_depth=2, min_child_weight=5, n_estimators=100, reg_alpha=0, reg_lambda=1, subsample=0.6;, score=0.662 total time=   0.4s\n",
            "[CV 10/10] END colsample_bytree=1.0, gamma=1.5, learning_rate=0.1, max_depth=2, min_child_weight=5, n_estimators=100, reg_alpha=0, reg_lambda=1, subsample=0.6;, score=0.689 total time=   0.4s\n",
            "[CV 1/10] END colsample_bytree=0.8, gamma=2, learning_rate=0.01, max_depth=2, min_child_weight=1, n_estimators=100, reg_alpha=1, reg_lambda=4.5, subsample=0.4;, score=0.689 total time=   0.4s\n",
            "[CV 2/10] END colsample_bytree=0.8, gamma=2, learning_rate=0.01, max_depth=2, min_child_weight=1, n_estimators=100, reg_alpha=1, reg_lambda=4.5, subsample=0.4;, score=0.676 total time=   0.3s\n",
            "[CV 3/10] END colsample_bytree=0.8, gamma=2, learning_rate=0.01, max_depth=2, min_child_weight=1, n_estimators=100, reg_alpha=1, reg_lambda=4.5, subsample=0.4;, score=0.676 total time=   0.3s\n",
            "[CV 4/10] END colsample_bytree=0.8, gamma=2, learning_rate=0.01, max_depth=2, min_child_weight=1, n_estimators=100, reg_alpha=1, reg_lambda=4.5, subsample=0.4;, score=0.628 total time=   0.4s\n",
            "[CV 5/10] END colsample_bytree=0.8, gamma=2, learning_rate=0.01, max_depth=2, min_child_weight=1, n_estimators=100, reg_alpha=1, reg_lambda=4.5, subsample=0.4;, score=0.669 total time=   0.3s\n",
            "[CV 6/10] END colsample_bytree=0.8, gamma=2, learning_rate=0.01, max_depth=2, min_child_weight=1, n_estimators=100, reg_alpha=1, reg_lambda=4.5, subsample=0.4;, score=0.676 total time=   0.3s\n",
            "[CV 7/10] END colsample_bytree=0.8, gamma=2, learning_rate=0.01, max_depth=2, min_child_weight=1, n_estimators=100, reg_alpha=1, reg_lambda=4.5, subsample=0.4;, score=0.635 total time=   0.4s\n",
            "[CV 8/10] END colsample_bytree=0.8, gamma=2, learning_rate=0.01, max_depth=2, min_child_weight=1, n_estimators=100, reg_alpha=1, reg_lambda=4.5, subsample=0.4;, score=0.682 total time=   0.4s\n",
            "[CV 9/10] END colsample_bytree=0.8, gamma=2, learning_rate=0.01, max_depth=2, min_child_weight=1, n_estimators=100, reg_alpha=1, reg_lambda=4.5, subsample=0.4;, score=0.622 total time=   0.3s\n",
            "[CV 10/10] END colsample_bytree=0.8, gamma=2, learning_rate=0.01, max_depth=2, min_child_weight=1, n_estimators=100, reg_alpha=1, reg_lambda=4.5, subsample=0.4;, score=0.689 total time=   0.4s\n",
            "[CV 1/10] END colsample_bytree=1.0, gamma=0.5, learning_rate=0.001, max_depth=2, min_child_weight=1, n_estimators=250, reg_alpha=0.5, reg_lambda=4.5, subsample=0.2;, score=0.703 total time=   0.7s\n",
            "[CV 2/10] END colsample_bytree=1.0, gamma=0.5, learning_rate=0.001, max_depth=2, min_child_weight=1, n_estimators=250, reg_alpha=0.5, reg_lambda=4.5, subsample=0.2;, score=0.669 total time=   0.7s\n",
            "[CV 3/10] END colsample_bytree=1.0, gamma=0.5, learning_rate=0.001, max_depth=2, min_child_weight=1, n_estimators=250, reg_alpha=0.5, reg_lambda=4.5, subsample=0.2;, score=0.669 total time=   0.7s\n",
            "[CV 4/10] END colsample_bytree=1.0, gamma=0.5, learning_rate=0.001, max_depth=2, min_child_weight=1, n_estimators=250, reg_alpha=0.5, reg_lambda=4.5, subsample=0.2;, score=0.628 total time=   0.7s\n",
            "[CV 5/10] END colsample_bytree=1.0, gamma=0.5, learning_rate=0.001, max_depth=2, min_child_weight=1, n_estimators=250, reg_alpha=0.5, reg_lambda=4.5, subsample=0.2;, score=0.689 total time=   0.7s\n",
            "[CV 6/10] END colsample_bytree=1.0, gamma=0.5, learning_rate=0.001, max_depth=2, min_child_weight=1, n_estimators=250, reg_alpha=0.5, reg_lambda=4.5, subsample=0.2;, score=0.662 total time=   0.7s\n",
            "[CV 7/10] END colsample_bytree=1.0, gamma=0.5, learning_rate=0.001, max_depth=2, min_child_weight=1, n_estimators=250, reg_alpha=0.5, reg_lambda=4.5, subsample=0.2;, score=0.628 total time=   0.8s\n",
            "[CV 8/10] END colsample_bytree=1.0, gamma=0.5, learning_rate=0.001, max_depth=2, min_child_weight=1, n_estimators=250, reg_alpha=0.5, reg_lambda=4.5, subsample=0.2;, score=0.689 total time=   0.7s\n",
            "[CV 9/10] END colsample_bytree=1.0, gamma=0.5, learning_rate=0.001, max_depth=2, min_child_weight=1, n_estimators=250, reg_alpha=0.5, reg_lambda=4.5, subsample=0.2;, score=0.649 total time=   0.7s\n",
            "[CV 10/10] END colsample_bytree=1.0, gamma=0.5, learning_rate=0.001, max_depth=2, min_child_weight=1, n_estimators=250, reg_alpha=0.5, reg_lambda=4.5, subsample=0.2;, score=0.689 total time=   0.7s\n",
            "[CV 1/10] END colsample_bytree=1.0, gamma=0.1, learning_rate=0.1, max_depth=4, min_child_weight=7, n_estimators=100, reg_alpha=0, reg_lambda=1, subsample=0.7;, score=0.709 total time=   0.7s\n",
            "[CV 2/10] END colsample_bytree=1.0, gamma=0.1, learning_rate=0.1, max_depth=4, min_child_weight=7, n_estimators=100, reg_alpha=0, reg_lambda=1, subsample=0.7;, score=0.736 total time=   0.7s\n",
            "[CV 3/10] END colsample_bytree=1.0, gamma=0.1, learning_rate=0.1, max_depth=4, min_child_weight=7, n_estimators=100, reg_alpha=0, reg_lambda=1, subsample=0.7;, score=0.622 total time=   0.7s\n",
            "[CV 4/10] END colsample_bytree=1.0, gamma=0.1, learning_rate=0.1, max_depth=4, min_child_weight=7, n_estimators=100, reg_alpha=0, reg_lambda=1, subsample=0.7;, score=0.642 total time=   0.7s\n",
            "[CV 5/10] END colsample_bytree=1.0, gamma=0.1, learning_rate=0.1, max_depth=4, min_child_weight=7, n_estimators=100, reg_alpha=0, reg_lambda=1, subsample=0.7;, score=0.649 total time=   0.7s\n",
            "[CV 6/10] END colsample_bytree=1.0, gamma=0.1, learning_rate=0.1, max_depth=4, min_child_weight=7, n_estimators=100, reg_alpha=0, reg_lambda=1, subsample=0.7;, score=0.669 total time=   0.7s\n",
            "[CV 7/10] END colsample_bytree=1.0, gamma=0.1, learning_rate=0.1, max_depth=4, min_child_weight=7, n_estimators=100, reg_alpha=0, reg_lambda=1, subsample=0.7;, score=0.655 total time=   0.7s\n",
            "[CV 8/10] END colsample_bytree=1.0, gamma=0.1, learning_rate=0.1, max_depth=4, min_child_weight=7, n_estimators=100, reg_alpha=0, reg_lambda=1, subsample=0.7;, score=0.676 total time=   0.7s\n",
            "[CV 9/10] END colsample_bytree=1.0, gamma=0.1, learning_rate=0.1, max_depth=4, min_child_weight=7, n_estimators=100, reg_alpha=0, reg_lambda=1, subsample=0.7;, score=0.676 total time=   0.7s\n",
            "[CV 10/10] END colsample_bytree=1.0, gamma=0.1, learning_rate=0.1, max_depth=4, min_child_weight=7, n_estimators=100, reg_alpha=0, reg_lambda=1, subsample=0.7;, score=0.676 total time=   0.7s\n",
            "[CV 1/10] END colsample_bytree=1.0, gamma=0.01, learning_rate=0.001, max_depth=10, min_child_weight=7, n_estimators=500, reg_alpha=1, reg_lambda=4.5, subsample=0.5;, score=0.730 total time=   3.8s\n",
            "[CV 2/10] END colsample_bytree=1.0, gamma=0.01, learning_rate=0.001, max_depth=10, min_child_weight=7, n_estimators=500, reg_alpha=1, reg_lambda=4.5, subsample=0.5;, score=0.689 total time=   3.7s\n",
            "[CV 3/10] END colsample_bytree=1.0, gamma=0.01, learning_rate=0.001, max_depth=10, min_child_weight=7, n_estimators=500, reg_alpha=1, reg_lambda=4.5, subsample=0.5;, score=0.676 total time=   3.7s\n",
            "[CV 4/10] END colsample_bytree=1.0, gamma=0.01, learning_rate=0.001, max_depth=10, min_child_weight=7, n_estimators=500, reg_alpha=1, reg_lambda=4.5, subsample=0.5;, score=0.642 total time=   3.8s\n",
            "[CV 5/10] END colsample_bytree=1.0, gamma=0.01, learning_rate=0.001, max_depth=10, min_child_weight=7, n_estimators=500, reg_alpha=1, reg_lambda=4.5, subsample=0.5;, score=0.689 total time=   3.8s\n",
            "[CV 6/10] END colsample_bytree=1.0, gamma=0.01, learning_rate=0.001, max_depth=10, min_child_weight=7, n_estimators=500, reg_alpha=1, reg_lambda=4.5, subsample=0.5;, score=0.669 total time=   3.7s\n",
            "[CV 7/10] END colsample_bytree=1.0, gamma=0.01, learning_rate=0.001, max_depth=10, min_child_weight=7, n_estimators=500, reg_alpha=1, reg_lambda=4.5, subsample=0.5;, score=0.628 total time=   3.7s\n",
            "[CV 8/10] END colsample_bytree=1.0, gamma=0.01, learning_rate=0.001, max_depth=10, min_child_weight=7, n_estimators=500, reg_alpha=1, reg_lambda=4.5, subsample=0.5;, score=0.716 total time=   3.7s\n",
            "[CV 9/10] END colsample_bytree=1.0, gamma=0.01, learning_rate=0.001, max_depth=10, min_child_weight=7, n_estimators=500, reg_alpha=1, reg_lambda=4.5, subsample=0.5;, score=0.649 total time=   3.7s\n",
            "[CV 10/10] END colsample_bytree=1.0, gamma=0.01, learning_rate=0.001, max_depth=10, min_child_weight=7, n_estimators=500, reg_alpha=1, reg_lambda=4.5, subsample=0.5;, score=0.709 total time=   3.8s\n",
            "[CV 1/10] END colsample_bytree=0.6, gamma=0.01, learning_rate=0.001, max_depth=10, min_child_weight=3, n_estimators=100, reg_alpha=1, reg_lambda=3, subsample=0.7;, score=0.696 total time=   0.8s\n",
            "[CV 2/10] END colsample_bytree=0.6, gamma=0.01, learning_rate=0.001, max_depth=10, min_child_weight=3, n_estimators=100, reg_alpha=1, reg_lambda=3, subsample=0.7;, score=0.709 total time=   0.8s\n",
            "[CV 3/10] END colsample_bytree=0.6, gamma=0.01, learning_rate=0.001, max_depth=10, min_child_weight=3, n_estimators=100, reg_alpha=1, reg_lambda=3, subsample=0.7;, score=0.649 total time=   0.8s\n",
            "[CV 4/10] END colsample_bytree=0.6, gamma=0.01, learning_rate=0.001, max_depth=10, min_child_weight=3, n_estimators=100, reg_alpha=1, reg_lambda=3, subsample=0.7;, score=0.676 total time=   0.8s\n",
            "[CV 5/10] END colsample_bytree=0.6, gamma=0.01, learning_rate=0.001, max_depth=10, min_child_weight=3, n_estimators=100, reg_alpha=1, reg_lambda=3, subsample=0.7;, score=0.655 total time=   0.8s\n",
            "[CV 6/10] END colsample_bytree=0.6, gamma=0.01, learning_rate=0.001, max_depth=10, min_child_weight=3, n_estimators=100, reg_alpha=1, reg_lambda=3, subsample=0.7;, score=0.662 total time=   0.8s\n",
            "[CV 7/10] END colsample_bytree=0.6, gamma=0.01, learning_rate=0.001, max_depth=10, min_child_weight=3, n_estimators=100, reg_alpha=1, reg_lambda=3, subsample=0.7;, score=0.635 total time=   0.8s\n",
            "[CV 8/10] END colsample_bytree=0.6, gamma=0.01, learning_rate=0.001, max_depth=10, min_child_weight=3, n_estimators=100, reg_alpha=1, reg_lambda=3, subsample=0.7;, score=0.709 total time=   0.8s\n",
            "[CV 9/10] END colsample_bytree=0.6, gamma=0.01, learning_rate=0.001, max_depth=10, min_child_weight=3, n_estimators=100, reg_alpha=1, reg_lambda=3, subsample=0.7;, score=0.655 total time=   0.8s\n",
            "[CV 10/10] END colsample_bytree=0.6, gamma=0.01, learning_rate=0.001, max_depth=10, min_child_weight=3, n_estimators=100, reg_alpha=1, reg_lambda=3, subsample=0.7;, score=0.716 total time=   0.8s\n",
            "[CV 1/10] END colsample_bytree=0.6, gamma=0.3, learning_rate=0.001, max_depth=7, min_child_weight=7, n_estimators=250, reg_alpha=0.5, reg_lambda=1, subsample=0.7;, score=0.703 total time=   1.6s\n",
            "[CV 2/10] END colsample_bytree=0.6, gamma=0.3, learning_rate=0.001, max_depth=7, min_child_weight=7, n_estimators=250, reg_alpha=0.5, reg_lambda=1, subsample=0.7;, score=0.696 total time=   1.6s\n",
            "[CV 3/10] END colsample_bytree=0.6, gamma=0.3, learning_rate=0.001, max_depth=7, min_child_weight=7, n_estimators=250, reg_alpha=0.5, reg_lambda=1, subsample=0.7;, score=0.642 total time=   1.6s\n",
            "[CV 4/10] END colsample_bytree=0.6, gamma=0.3, learning_rate=0.001, max_depth=7, min_child_weight=7, n_estimators=250, reg_alpha=0.5, reg_lambda=1, subsample=0.7;, score=0.649 total time=   1.6s\n",
            "[CV 5/10] END colsample_bytree=0.6, gamma=0.3, learning_rate=0.001, max_depth=7, min_child_weight=7, n_estimators=250, reg_alpha=0.5, reg_lambda=1, subsample=0.7;, score=0.655 total time=   1.7s\n",
            "[CV 6/10] END colsample_bytree=0.6, gamma=0.3, learning_rate=0.001, max_depth=7, min_child_weight=7, n_estimators=250, reg_alpha=0.5, reg_lambda=1, subsample=0.7;, score=0.655 total time=   1.6s\n",
            "[CV 7/10] END colsample_bytree=0.6, gamma=0.3, learning_rate=0.001, max_depth=7, min_child_weight=7, n_estimators=250, reg_alpha=0.5, reg_lambda=1, subsample=0.7;, score=0.628 total time=   1.7s\n",
            "[CV 8/10] END colsample_bytree=0.6, gamma=0.3, learning_rate=0.001, max_depth=7, min_child_weight=7, n_estimators=250, reg_alpha=0.5, reg_lambda=1, subsample=0.7;, score=0.716 total time=   1.7s\n",
            "[CV 9/10] END colsample_bytree=0.6, gamma=0.3, learning_rate=0.001, max_depth=7, min_child_weight=7, n_estimators=250, reg_alpha=0.5, reg_lambda=1, subsample=0.7;, score=0.655 total time=   1.7s\n",
            "[CV 10/10] END colsample_bytree=0.6, gamma=0.3, learning_rate=0.001, max_depth=7, min_child_weight=7, n_estimators=250, reg_alpha=0.5, reg_lambda=1, subsample=0.7;, score=0.709 total time=   1.6s\n",
            "[CV 1/10] END colsample_bytree=0.6, gamma=0.3, learning_rate=0.01, max_depth=7, min_child_weight=1, n_estimators=1000, reg_alpha=0, reg_lambda=1.5, subsample=0.4;, score=0.723 total time=   7.2s\n",
            "[CV 2/10] END colsample_bytree=0.6, gamma=0.3, learning_rate=0.01, max_depth=7, min_child_weight=1, n_estimators=1000, reg_alpha=0, reg_lambda=1.5, subsample=0.4;, score=0.709 total time=   7.1s\n",
            "[CV 3/10] END colsample_bytree=0.6, gamma=0.3, learning_rate=0.01, max_depth=7, min_child_weight=1, n_estimators=1000, reg_alpha=0, reg_lambda=1.5, subsample=0.4;, score=0.655 total time=   7.0s\n",
            "[CV 4/10] END colsample_bytree=0.6, gamma=0.3, learning_rate=0.01, max_depth=7, min_child_weight=1, n_estimators=1000, reg_alpha=0, reg_lambda=1.5, subsample=0.4;, score=0.642 total time=   7.1s\n",
            "[CV 5/10] END colsample_bytree=0.6, gamma=0.3, learning_rate=0.01, max_depth=7, min_child_weight=1, n_estimators=1000, reg_alpha=0, reg_lambda=1.5, subsample=0.4;, score=0.642 total time=   7.0s\n",
            "[CV 6/10] END colsample_bytree=0.6, gamma=0.3, learning_rate=0.01, max_depth=7, min_child_weight=1, n_estimators=1000, reg_alpha=0, reg_lambda=1.5, subsample=0.4;, score=0.696 total time=   7.1s\n",
            "[CV 7/10] END colsample_bytree=0.6, gamma=0.3, learning_rate=0.01, max_depth=7, min_child_weight=1, n_estimators=1000, reg_alpha=0, reg_lambda=1.5, subsample=0.4;, score=0.642 total time=   7.2s\n",
            "[CV 8/10] END colsample_bytree=0.6, gamma=0.3, learning_rate=0.01, max_depth=7, min_child_weight=1, n_estimators=1000, reg_alpha=0, reg_lambda=1.5, subsample=0.4;, score=0.709 total time=   7.1s\n",
            "[CV 9/10] END colsample_bytree=0.6, gamma=0.3, learning_rate=0.01, max_depth=7, min_child_weight=1, n_estimators=1000, reg_alpha=0, reg_lambda=1.5, subsample=0.4;, score=0.628 total time=   7.1s\n",
            "[CV 10/10] END colsample_bytree=0.6, gamma=0.3, learning_rate=0.01, max_depth=7, min_child_weight=1, n_estimators=1000, reg_alpha=0, reg_lambda=1.5, subsample=0.4;, score=0.682 total time=   7.1s\n",
            "[CV 1/10] END colsample_bytree=1.0, gamma=0.3, learning_rate=0.01, max_depth=10, min_child_weight=7, n_estimators=250, reg_alpha=0, reg_lambda=3, subsample=0.7;, score=0.716 total time=   2.7s\n",
            "[CV 2/10] END colsample_bytree=1.0, gamma=0.3, learning_rate=0.01, max_depth=10, min_child_weight=7, n_estimators=250, reg_alpha=0, reg_lambda=3, subsample=0.7;, score=0.689 total time=   2.7s\n",
            "[CV 3/10] END colsample_bytree=1.0, gamma=0.3, learning_rate=0.01, max_depth=10, min_child_weight=7, n_estimators=250, reg_alpha=0, reg_lambda=3, subsample=0.7;, score=0.642 total time=   2.7s\n",
            "[CV 4/10] END colsample_bytree=1.0, gamma=0.3, learning_rate=0.01, max_depth=10, min_child_weight=7, n_estimators=250, reg_alpha=0, reg_lambda=3, subsample=0.7;, score=0.682 total time=   2.7s\n",
            "[CV 5/10] END colsample_bytree=1.0, gamma=0.3, learning_rate=0.01, max_depth=10, min_child_weight=7, n_estimators=250, reg_alpha=0, reg_lambda=3, subsample=0.7;, score=0.635 total time=   2.7s\n",
            "[CV 6/10] END colsample_bytree=1.0, gamma=0.3, learning_rate=0.01, max_depth=10, min_child_weight=7, n_estimators=250, reg_alpha=0, reg_lambda=3, subsample=0.7;, score=0.662 total time=   2.7s\n",
            "[CV 7/10] END colsample_bytree=1.0, gamma=0.3, learning_rate=0.01, max_depth=10, min_child_weight=7, n_estimators=250, reg_alpha=0, reg_lambda=3, subsample=0.7;, score=0.655 total time=   2.7s\n",
            "[CV 8/10] END colsample_bytree=1.0, gamma=0.3, learning_rate=0.01, max_depth=10, min_child_weight=7, n_estimators=250, reg_alpha=0, reg_lambda=3, subsample=0.7;, score=0.682 total time=   2.7s\n",
            "[CV 9/10] END colsample_bytree=1.0, gamma=0.3, learning_rate=0.01, max_depth=10, min_child_weight=7, n_estimators=250, reg_alpha=0, reg_lambda=3, subsample=0.7;, score=0.662 total time=   2.7s\n",
            "[CV 10/10] END colsample_bytree=1.0, gamma=0.3, learning_rate=0.01, max_depth=10, min_child_weight=7, n_estimators=250, reg_alpha=0, reg_lambda=3, subsample=0.7;, score=0.709 total time=   2.7s\n",
            "[CV 1/10] END colsample_bytree=0.6, gamma=2, learning_rate=0.001, max_depth=7, min_child_weight=7, n_estimators=250, reg_alpha=0.5, reg_lambda=2, subsample=0.4;, score=0.682 total time=   1.2s\n",
            "[CV 2/10] END colsample_bytree=0.6, gamma=2, learning_rate=0.001, max_depth=7, min_child_weight=7, n_estimators=250, reg_alpha=0.5, reg_lambda=2, subsample=0.4;, score=0.689 total time=   1.2s\n",
            "[CV 3/10] END colsample_bytree=0.6, gamma=2, learning_rate=0.001, max_depth=7, min_child_weight=7, n_estimators=250, reg_alpha=0.5, reg_lambda=2, subsample=0.4;, score=0.662 total time=   1.2s\n",
            "[CV 4/10] END colsample_bytree=0.6, gamma=2, learning_rate=0.001, max_depth=7, min_child_weight=7, n_estimators=250, reg_alpha=0.5, reg_lambda=2, subsample=0.4;, score=0.649 total time=   1.4s\n",
            "[CV 5/10] END colsample_bytree=0.6, gamma=2, learning_rate=0.001, max_depth=7, min_child_weight=7, n_estimators=250, reg_alpha=0.5, reg_lambda=2, subsample=0.4;, score=0.655 total time=   1.8s\n",
            "[CV 6/10] END colsample_bytree=0.6, gamma=2, learning_rate=0.001, max_depth=7, min_child_weight=7, n_estimators=250, reg_alpha=0.5, reg_lambda=2, subsample=0.4;, score=0.676 total time=   1.4s\n",
            "[CV 7/10] END colsample_bytree=0.6, gamma=2, learning_rate=0.001, max_depth=7, min_child_weight=7, n_estimators=250, reg_alpha=0.5, reg_lambda=2, subsample=0.4;, score=0.635 total time=   1.2s\n",
            "[CV 8/10] END colsample_bytree=0.6, gamma=2, learning_rate=0.001, max_depth=7, min_child_weight=7, n_estimators=250, reg_alpha=0.5, reg_lambda=2, subsample=0.4;, score=0.696 total time=   1.2s\n",
            "[CV 9/10] END colsample_bytree=0.6, gamma=2, learning_rate=0.001, max_depth=7, min_child_weight=7, n_estimators=250, reg_alpha=0.5, reg_lambda=2, subsample=0.4;, score=0.642 total time=   1.2s\n",
            "[CV 10/10] END colsample_bytree=0.6, gamma=2, learning_rate=0.001, max_depth=7, min_child_weight=7, n_estimators=250, reg_alpha=0.5, reg_lambda=2, subsample=0.4;, score=0.689 total time=   1.2s\n"
          ]
        }
      ],
      "source": [
        "model_xgboost = xgb_rscv.fit(X_train, y_train)"
      ]
    },
    {
      "cell_type": "code",
      "execution_count": 40,
      "metadata": {
        "colab": {
          "base_uri": "https://localhost:8080/"
        },
        "id": "d0hPkTTDpKxs",
        "outputId": "15afcf19-60be-416b-d254-171ec37b0820"
      },
      "outputs": [
        {
          "output_type": "execute_result",
          "data": {
            "text/plain": [
              "XGBClassifier(colsample_bytree=1.0, gamma=0.01, learning_rate=0.001,\n",
              "              max_depth=10, min_child_weight=7, n_estimators=500,\n",
              "              objective='multi:softprob', reg_alpha=1, reg_lambda=4.5,\n",
              "              subsample=0.5)"
            ]
          },
          "metadata": {},
          "execution_count": 40
        }
      ],
      "source": [
        "xgb_final = XGBClassifier(random_state=0, \n",
        "                          n_estimators=xgb_rscv.best_params_['n_estimators'], \n",
        "                          max_depth=xgb_rscv.best_params_['max_depth'],\n",
        "                          learning_rate=xgb_rscv.best_params_['learning_rate'],\n",
        "                          gamma=xgb_rscv.best_params_['gamma'],\n",
        "                          colsample_bytree=xgb_rscv.best_params_['colsample_bytree'],\n",
        "                          subsample=xgb_rscv.best_params_['subsample'],\n",
        "                          reg_alpha=xgb_rscv.best_params_['reg_alpha'],\n",
        "                          reg_lambda=xgb_rscv.best_params_['reg_lambda'],\n",
        "                          min_child_weight=xgb_rscv.best_params_['min_child_weight'])\n",
        "xgb_final.fit(X_train, y_train)"
      ]
    },
    {
      "cell_type": "code",
      "execution_count": 41,
      "metadata": {
        "id": "cf0kCqoRpKxs"
      },
      "outputs": [],
      "source": [
        "y_pred = xgb_final.predict(X_test)"
      ]
    },
    {
      "cell_type": "code",
      "execution_count": 42,
      "metadata": {
        "colab": {
          "base_uri": "https://localhost:8080/"
        },
        "id": "mbMvZXE3pKxs",
        "outputId": "b8f97f75-77c4-4689-8665-ac8c32280831"
      },
      "outputs": [
        {
          "output_type": "stream",
          "name": "stdout",
          "text": [
            "              precision    recall  f1-score   support\n",
            "\n",
            "           0      0.000     0.000     0.000         0\n",
            "           1      0.600     0.688     0.641        48\n",
            "           2      0.723     0.698     0.711       116\n",
            "           3      0.812     0.678     0.739       121\n",
            "           4      0.615     0.800     0.696        40\n",
            "\n",
            "    accuracy                          0.702       325\n",
            "   macro avg      0.550     0.573     0.557       325\n",
            "weighted avg      0.725     0.702     0.709       325\n",
            "\n"
          ]
        },
        {
          "output_type": "stream",
          "name": "stderr",
          "text": [
            "/usr/local/lib/python3.8/dist-packages/sklearn/metrics/_classification.py:1318: UndefinedMetricWarning: Recall and F-score are ill-defined and being set to 0.0 in labels with no true samples. Use `zero_division` parameter to control this behavior.\n",
            "  _warn_prf(average, modifier, msg_start, len(result))\n",
            "/usr/local/lib/python3.8/dist-packages/sklearn/metrics/_classification.py:1318: UndefinedMetricWarning: Recall and F-score are ill-defined and being set to 0.0 in labels with no true samples. Use `zero_division` parameter to control this behavior.\n",
            "  _warn_prf(average, modifier, msg_start, len(result))\n",
            "/usr/local/lib/python3.8/dist-packages/sklearn/metrics/_classification.py:1318: UndefinedMetricWarning: Recall and F-score are ill-defined and being set to 0.0 in labels with no true samples. Use `zero_division` parameter to control this behavior.\n",
            "  _warn_prf(average, modifier, msg_start, len(result))\n"
          ]
        }
      ],
      "source": [
        "report = classification_report(y_pred,y_test,digits=3)\n",
        "print(report)"
      ]
    },
    {
      "cell_type": "code",
      "execution_count": 43,
      "metadata": {
        "id": "ku5yhT1rpKxs"
      },
      "outputs": [],
      "source": [
        "from sklearn.metrics import confusion_matrix\n",
        "cm1 = confusion_matrix(y_test, y_pred)"
      ]
    },
    {
      "cell_type": "code",
      "execution_count": 44,
      "metadata": {
        "colab": {
          "base_uri": "https://localhost:8080/",
          "height": 283
        },
        "id": "p6SuPCo_pKxs",
        "outputId": "ea84253f-681e-4e4b-9ca0-5e361128e338"
      },
      "outputs": [
        {
          "output_type": "execute_result",
          "data": {
            "text/plain": [
              "<matplotlib.axes._subplots.AxesSubplot at 0x7eff5c899ca0>"
            ]
          },
          "metadata": {},
          "execution_count": 44
        },
        {
          "output_type": "display_data",
          "data": {
            "text/plain": [
              "<Figure size 432x288 with 2 Axes>"
            ],
            "image/png": "[encoded data removed]"
          },
          "metadata": {
            "needs_background": "light"
          }
        }
      ],
      "source": [
        "import seaborn as sns\n",
        "sns.heatmap(cm1, annot=True)"
      ]
    },
    {
      "cell_type": "code",
      "execution_count": 46,
      "metadata": {
        "colab": {
          "base_uri": "https://localhost:8080/"
        },
        "id": "VCwrQ_i_pKxs",
        "outputId": "05199c53-e139-4a18-824d-98422957e417"
      },
      "outputs": [
        {
          "output_type": "execute_result",
          "data": {
            "text/plain": [
              "0.7015384615384616"
            ]
          },
          "metadata": {},
          "execution_count": 46
        }
      ],
      "source": [
        "from sklearn.metrics import accuracy_score\n",
        "accuracy_score(y_test, y_pred)"
      ]
    },
    {
      "cell_type": "markdown",
      "metadata": {
        "id": "oQjmPdJopKxt"
      },
      "source": [
        "#### SUPPORT VECTOR CLASSIFIER"
      ]
    },
    {
      "cell_type": "code",
      "execution_count": 47,
      "metadata": {
        "id": "3etIdBg9pKxt"
      },
      "outputs": [],
      "source": [
        "from sklearn.preprocessing import StandardScaler\n",
        "sc_X = StandardScaler()\n",
        "X_Train = sc_X.fit_transform(X_train)\n",
        "X_Test = sc_X.transform(X_test)"
      ]
    },
    {
      "cell_type": "code",
      "execution_count": 48,
      "metadata": {
        "colab": {
          "base_uri": "https://localhost:8080/"
        },
        "id": "d6-udNCypKxt",
        "outputId": "81094798-c1b9-4354-fde2-5b65786496eb"
      },
      "outputs": [
        {
          "output_type": "execute_result",
          "data": {
            "text/plain": [
              "SVC(random_state=0)"
            ]
          },
          "metadata": {},
          "execution_count": 48
        }
      ],
      "source": [
        "from sklearn.svm import SVC\n",
        "classifier = SVC(kernel = 'rbf', random_state = 0)\n",
        "classifier.fit(X_Train, y_train)"
      ]
    },
    {
      "cell_type": "code",
      "execution_count": 49,
      "metadata": {
        "id": "eYeRL8IKpKxt"
      },
      "outputs": [],
      "source": [
        "Y_Pred = classifier.predict(X_Test)"
      ]
    },
    {
      "cell_type": "code",
      "execution_count": 50,
      "metadata": {
        "id": "3IlH_YPOpKxt"
      },
      "outputs": [],
      "source": [
        "cm2 = confusion_matrix(y_test, Y_Pred)"
      ]
    },
    {
      "cell_type": "code",
      "execution_count": 51,
      "metadata": {
        "colab": {
          "base_uri": "https://localhost:8080/",
          "height": 283
        },
        "id": "ZI7tOzHWpKxt",
        "outputId": "5d441c53-4a2b-4709-a76a-706974413bbf"
      },
      "outputs": [
        {
          "output_type": "execute_result",
          "data": {
            "text/plain": [
              "<matplotlib.axes._subplots.AxesSubplot at 0x7eff5c732c10>"
            ]
          },
          "metadata": {},
          "execution_count": 51
        },
        {
          "output_type": "display_data",
          "data": {
            "text/plain": [
              "<Figure size 432x288 with 2 Axes>"
            ],
            "image/png": "[encoded data removed]"
          },
          "metadata": {
            "needs_background": "light"
          }
        }
      ],
      "source": [
        "sns.heatmap(cm2, annot=True)"
      ]
    },
    {
      "cell_type": "code",
      "execution_count": 52,
      "metadata": {
        "colab": {
          "base_uri": "https://localhost:8080/"
        },
        "id": "lfZlhbKapKxt",
        "outputId": "313ec410-c6f4-451a-98b0-acff9cb2bd34"
      },
      "outputs": [
        {
          "output_type": "execute_result",
          "data": {
            "text/plain": [
              "0.6553846153846153"
            ]
          },
          "metadata": {},
          "execution_count": 52
        }
      ],
      "source": [
        "accuracy_score(y_test, Y_Pred)"
      ]
    }
  ],
  "metadata": {
    "kernelspec": {
      "display_name": "Python 3 (ipykernel)",
      "language": "python",
      "name": "python3"
    },
    "language_info": {
      "codemirror_mode": {
        "name": "ipython",
        "version": 3
      },
      "file_extension": ".py",
      "mimetype": "text/x-python",
      "name": "python",
      "nbconvert_exporter": "python",
      "pygments_lexer": "ipython3",
      "version": "3.9.13"
    },
    "colab": {
      "provenance": [],
      "include_colab_link": true
    }
  },
  "nbformat": 4,
  "nbformat_minor": 0
}