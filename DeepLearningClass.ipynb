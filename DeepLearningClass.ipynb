{
  "cells": [
    {
      "cell_type": "markdown",
      "metadata": {
        "id": "view-in-github",
        "colab_type": "text"
      },
      "source": [
        "<a href=\"https://colab.research.google.com/github/ShambhaviSharma0110/Auto-essay-grader/blob/main/DeepLearningClass.ipynb\" target=\"_parent\"><img src=\"https://colab.research.google.com/assets/colab-badge.svg\" alt=\"Open In Colab\"/></a>"
      ]
    },
    {
      "cell_type": "markdown",
      "metadata": {
        "id": "phFGhGsacMBK"
      },
      "source": [
        "### DEEP LEARNING CLASSIFICATION"
      ]
    },
    {
      "cell_type": "code",
      "execution_count": 1,
      "metadata": {
        "id": "Fsxqwg--cMBN"
      },
      "outputs": [],
      "source": [
        "import pandas as pd\n",
        "import numpy as np\n",
        "from sklearn.preprocessing import StandardScaler\n",
        "import keras\n",
        "from keras.models import Sequential\n",
        "from keras.layers import Dense\n",
        "from sklearn.metrics import confusion_matrix\n",
        "from sklearn.model_selection import train_test_split\n",
        "import seaborn as sns"
      ]
    },
    {
      "cell_type": "code",
      "execution_count": 2,
      "metadata": {
        "id": "qCbU43YvcMBP"
      },
      "outputs": [],
      "source": [
        "data = pd.read_csv('features.csv')"
      ]
    },
    {
      "cell_type": "code",
      "execution_count": 3,
      "metadata": {
        "id": "ofcMBD0AcMBP"
      },
      "outputs": [],
      "source": [
        "X=data.iloc[:,3:]\n",
        "y=data.iloc[:,2]"
      ]
    },
    {
      "cell_type": "code",
      "execution_count": 4,
      "metadata": {
        "colab": {
          "base_uri": "https://localhost:8080/"
        },
        "id": "kHVuLKhycMBP",
        "outputId": "a570a170-2c72-4a71-e1eb-0153d7b88c9c"
      },
      "outputs": [
        {
          "output_type": "execute_result",
          "data": {
            "text/plain": [
              "(1805, 13)"
            ]
          },
          "metadata": {},
          "execution_count": 4
        }
      ],
      "source": [
        "X.shape"
      ]
    },
    {
      "cell_type": "code",
      "execution_count": 5,
      "metadata": {
        "id": "BCLwtBThcMBQ"
      },
      "outputs": [],
      "source": [
        "X_train, X_test , y_train, y_test = train_test_split(X ,y, test_size=0.18 , random_state=0)"
      ]
    },
    {
      "cell_type": "code",
      "execution_count": 6,
      "metadata": {
        "id": "HRiabiQ5cMBQ"
      },
      "outputs": [],
      "source": [
        "sc_X = StandardScaler()\n",
        "X_Train = sc_X.fit_transform(X_train)\n",
        "X_Test = sc_X.transform(X_test)"
      ]
    },
    {
      "cell_type": "code",
      "execution_count": 7,
      "metadata": {
        "id": "4C_qEQIMcMBQ"
      },
      "outputs": [],
      "source": [
        "clf = Sequential()"
      ]
    },
    {
      "cell_type": "code",
      "execution_count": 8,
      "metadata": {
        "id": "e985lU3xcMBR"
      },
      "outputs": [],
      "source": [
        "clf.add(Dense(10,kernel_initializer ='uniform',activation ='tanh', input_dim = 13))\n",
        "clf.add(Dense(8, kernel_initializer ='uniform',activation ='relu'))\n",
        "clf.add(Dense(8, kernel_initializer='uniform',activation ='relu'))\n",
        "clf.add(Dense(5, kernel_initializer ='uniform',activation ='softmax'))"
      ]
    },
    {
      "cell_type": "code",
      "execution_count": 9,
      "metadata": {
        "id": "6X8Rf6F7cMBR"
      },
      "outputs": [],
      "source": [
        "clf.compile(optimizer='adam',loss='sparse_categorical_crossentropy',metrics=['accuracy'])"
      ]
    },
    {
      "cell_type": "code",
      "execution_count": 10,
      "metadata": {
        "scrolled": true,
        "colab": {
          "base_uri": "https://localhost:8080/"
        },
        "id": "5ClknC25cMBR",
        "outputId": "909a5980-9ae7-4b0b-f627-dc09ba6effec"
      },
      "outputs": [
        {
          "output_type": "stream",
          "name": "stdout",
          "text": [
            "Epoch 1/120\n",
            "212/212 [==============================] - 1s 2ms/step - loss: 1.4840 - accuracy: 0.3568\n",
            "Epoch 2/120\n",
            "212/212 [==============================] - 0s 2ms/step - loss: 1.2706 - accuracy: 0.4541\n",
            "Epoch 3/120\n",
            "212/212 [==============================] - 0s 2ms/step - loss: 1.0312 - accuracy: 0.5541\n",
            "Epoch 4/120\n",
            "212/212 [==============================] - 0s 2ms/step - loss: 0.9590 - accuracy: 0.5662\n",
            "Epoch 5/120\n",
            "212/212 [==============================] - 0s 2ms/step - loss: 0.9224 - accuracy: 0.5791\n",
            "Epoch 6/120\n",
            "212/212 [==============================] - 0s 2ms/step - loss: 0.8847 - accuracy: 0.5953\n",
            "Epoch 7/120\n",
            "212/212 [==============================] - 0s 2ms/step - loss: 0.8594 - accuracy: 0.6385\n",
            "Epoch 8/120\n",
            "212/212 [==============================] - 0s 2ms/step - loss: 0.8664 - accuracy: 0.6162\n",
            "Epoch 9/120\n",
            "212/212 [==============================] - 0s 2ms/step - loss: 0.8578 - accuracy: 0.6284\n",
            "Epoch 10/120\n",
            "212/212 [==============================] - 0s 2ms/step - loss: 0.8369 - accuracy: 0.6500\n",
            "Epoch 11/120\n",
            "212/212 [==============================] - 0s 2ms/step - loss: 0.8319 - accuracy: 0.6608\n",
            "Epoch 12/120\n",
            "212/212 [==============================] - 0s 2ms/step - loss: 0.8378 - accuracy: 0.6385\n",
            "Epoch 13/120\n",
            "212/212 [==============================] - 0s 2ms/step - loss: 0.8566 - accuracy: 0.6142\n",
            "Epoch 14/120\n",
            "212/212 [==============================] - 0s 2ms/step - loss: 0.8267 - accuracy: 0.6338\n",
            "Epoch 15/120\n",
            "212/212 [==============================] - 0s 2ms/step - loss: 0.8281 - accuracy: 0.6284\n",
            "Epoch 16/120\n",
            "212/212 [==============================] - 0s 2ms/step - loss: 0.8138 - accuracy: 0.6453\n",
            "Epoch 17/120\n",
            "212/212 [==============================] - 0s 2ms/step - loss: 0.8243 - accuracy: 0.6351\n",
            "Epoch 18/120\n",
            "212/212 [==============================] - 0s 2ms/step - loss: 0.8223 - accuracy: 0.6216\n",
            "Epoch 19/120\n",
            "212/212 [==============================] - 0s 2ms/step - loss: 0.8291 - accuracy: 0.6318\n",
            "Epoch 20/120\n",
            "212/212 [==============================] - 0s 2ms/step - loss: 0.8156 - accuracy: 0.6459\n",
            "Epoch 21/120\n",
            "212/212 [==============================] - 0s 2ms/step - loss: 0.8107 - accuracy: 0.6439\n",
            "Epoch 22/120\n",
            "212/212 [==============================] - 0s 2ms/step - loss: 0.8083 - accuracy: 0.6405\n",
            "Epoch 23/120\n",
            "212/212 [==============================] - 0s 2ms/step - loss: 0.8256 - accuracy: 0.6459\n",
            "Epoch 24/120\n",
            "212/212 [==============================] - 0s 2ms/step - loss: 0.7986 - accuracy: 0.6473\n",
            "Epoch 25/120\n",
            "212/212 [==============================] - 0s 2ms/step - loss: 0.8083 - accuracy: 0.6439\n",
            "Epoch 26/120\n",
            "212/212 [==============================] - 0s 2ms/step - loss: 0.8065 - accuracy: 0.6345\n",
            "Epoch 27/120\n",
            "212/212 [==============================] - 0s 2ms/step - loss: 0.8103 - accuracy: 0.6493\n",
            "Epoch 28/120\n",
            "212/212 [==============================] - 0s 2ms/step - loss: 0.8111 - accuracy: 0.6419\n",
            "Epoch 29/120\n",
            "212/212 [==============================] - 0s 2ms/step - loss: 0.8089 - accuracy: 0.6486\n",
            "Epoch 30/120\n",
            "212/212 [==============================] - 0s 2ms/step - loss: 0.7997 - accuracy: 0.6493\n",
            "Epoch 31/120\n",
            "212/212 [==============================] - 0s 2ms/step - loss: 0.8102 - accuracy: 0.6601\n",
            "Epoch 32/120\n",
            "212/212 [==============================] - 0s 2ms/step - loss: 0.8002 - accuracy: 0.6547\n",
            "Epoch 33/120\n",
            "212/212 [==============================] - 0s 2ms/step - loss: 0.7951 - accuracy: 0.6642\n",
            "Epoch 34/120\n",
            "212/212 [==============================] - 0s 2ms/step - loss: 0.8027 - accuracy: 0.6723\n",
            "Epoch 35/120\n",
            "212/212 [==============================] - 0s 2ms/step - loss: 0.8172 - accuracy: 0.6405\n",
            "Epoch 36/120\n",
            "212/212 [==============================] - 0s 2ms/step - loss: 0.8035 - accuracy: 0.6527\n",
            "Epoch 37/120\n",
            "212/212 [==============================] - 0s 2ms/step - loss: 0.8013 - accuracy: 0.6459\n",
            "Epoch 38/120\n",
            "212/212 [==============================] - 0s 2ms/step - loss: 0.7954 - accuracy: 0.6466\n",
            "Epoch 39/120\n",
            "212/212 [==============================] - 0s 2ms/step - loss: 0.7824 - accuracy: 0.6588\n",
            "Epoch 40/120\n",
            "212/212 [==============================] - 0s 2ms/step - loss: 0.7936 - accuracy: 0.6547\n",
            "Epoch 41/120\n",
            "212/212 [==============================] - 0s 2ms/step - loss: 0.7985 - accuracy: 0.6601\n",
            "Epoch 42/120\n",
            "212/212 [==============================] - 0s 2ms/step - loss: 0.7843 - accuracy: 0.6541\n",
            "Epoch 43/120\n",
            "212/212 [==============================] - 0s 2ms/step - loss: 0.7965 - accuracy: 0.6473\n",
            "Epoch 44/120\n",
            "212/212 [==============================] - 0s 2ms/step - loss: 0.7960 - accuracy: 0.6622\n",
            "Epoch 45/120\n",
            "212/212 [==============================] - 0s 2ms/step - loss: 0.7939 - accuracy: 0.6466\n",
            "Epoch 46/120\n",
            "212/212 [==============================] - 0s 2ms/step - loss: 0.7818 - accuracy: 0.6439\n",
            "Epoch 47/120\n",
            "212/212 [==============================] - 0s 2ms/step - loss: 0.7884 - accuracy: 0.6486\n",
            "Epoch 48/120\n",
            "212/212 [==============================] - 0s 2ms/step - loss: 0.7817 - accuracy: 0.6466\n",
            "Epoch 49/120\n",
            "212/212 [==============================] - 0s 2ms/step - loss: 0.7843 - accuracy: 0.6541\n",
            "Epoch 50/120\n",
            "212/212 [==============================] - 0s 2ms/step - loss: 0.7763 - accuracy: 0.6541\n",
            "Epoch 51/120\n",
            "212/212 [==============================] - 0s 2ms/step - loss: 0.7883 - accuracy: 0.6514\n",
            "Epoch 52/120\n",
            "212/212 [==============================] - 0s 2ms/step - loss: 0.7907 - accuracy: 0.6608\n",
            "Epoch 53/120\n",
            "212/212 [==============================] - 0s 2ms/step - loss: 0.7866 - accuracy: 0.6541\n",
            "Epoch 54/120\n",
            "212/212 [==============================] - 0s 2ms/step - loss: 0.7949 - accuracy: 0.6392\n",
            "Epoch 55/120\n",
            "212/212 [==============================] - 0s 2ms/step - loss: 0.7932 - accuracy: 0.6507\n",
            "Epoch 56/120\n",
            "212/212 [==============================] - 0s 2ms/step - loss: 0.7821 - accuracy: 0.6520\n",
            "Epoch 57/120\n",
            "212/212 [==============================] - 0s 2ms/step - loss: 0.7890 - accuracy: 0.6405\n",
            "Epoch 58/120\n",
            "212/212 [==============================] - 0s 2ms/step - loss: 0.7784 - accuracy: 0.6588\n",
            "Epoch 59/120\n",
            "212/212 [==============================] - 0s 2ms/step - loss: 0.7886 - accuracy: 0.6507\n",
            "Epoch 60/120\n",
            "212/212 [==============================] - 0s 2ms/step - loss: 0.7618 - accuracy: 0.6649\n",
            "Epoch 61/120\n",
            "212/212 [==============================] - 0s 2ms/step - loss: 0.7798 - accuracy: 0.6622\n",
            "Epoch 62/120\n",
            "212/212 [==============================] - 0s 2ms/step - loss: 0.7746 - accuracy: 0.6595\n",
            "Epoch 63/120\n",
            "212/212 [==============================] - 0s 2ms/step - loss: 0.7762 - accuracy: 0.6615\n",
            "Epoch 64/120\n",
            "212/212 [==============================] - 0s 2ms/step - loss: 0.7727 - accuracy: 0.6547\n",
            "Epoch 65/120\n",
            "212/212 [==============================] - 0s 2ms/step - loss: 0.7782 - accuracy: 0.6655\n",
            "Epoch 66/120\n",
            "212/212 [==============================] - 0s 2ms/step - loss: 0.7887 - accuracy: 0.6574\n",
            "Epoch 67/120\n",
            "212/212 [==============================] - 0s 2ms/step - loss: 0.7772 - accuracy: 0.6459\n",
            "Epoch 68/120\n",
            "212/212 [==============================] - 0s 2ms/step - loss: 0.7783 - accuracy: 0.6527\n",
            "Epoch 69/120\n",
            "212/212 [==============================] - 0s 2ms/step - loss: 0.7903 - accuracy: 0.6568\n",
            "Epoch 70/120\n",
            "212/212 [==============================] - 0s 2ms/step - loss: 0.7732 - accuracy: 0.6676\n",
            "Epoch 71/120\n",
            "212/212 [==============================] - 1s 3ms/step - loss: 0.7840 - accuracy: 0.6608\n",
            "Epoch 72/120\n",
            "212/212 [==============================] - 1s 7ms/step - loss: 0.7854 - accuracy: 0.6581\n",
            "Epoch 73/120\n",
            "212/212 [==============================] - 2s 9ms/step - loss: 0.7679 - accuracy: 0.6534\n",
            "Epoch 74/120\n",
            "212/212 [==============================] - 1s 4ms/step - loss: 0.7691 - accuracy: 0.6527\n",
            "Epoch 75/120\n",
            "212/212 [==============================] - 1s 4ms/step - loss: 0.7731 - accuracy: 0.6554\n",
            "Epoch 76/120\n",
            "212/212 [==============================] - 1s 4ms/step - loss: 0.8008 - accuracy: 0.6432\n",
            "Epoch 77/120\n",
            "212/212 [==============================] - 1s 4ms/step - loss: 0.7724 - accuracy: 0.6547\n",
            "Epoch 78/120\n",
            "212/212 [==============================] - 0s 2ms/step - loss: 0.7702 - accuracy: 0.6601\n",
            "Epoch 79/120\n",
            "212/212 [==============================] - 0s 2ms/step - loss: 0.7648 - accuracy: 0.6655\n",
            "Epoch 80/120\n",
            "212/212 [==============================] - 0s 2ms/step - loss: 0.7740 - accuracy: 0.6696\n",
            "Epoch 81/120\n",
            "212/212 [==============================] - 0s 2ms/step - loss: 0.7782 - accuracy: 0.6453\n",
            "Epoch 82/120\n",
            "212/212 [==============================] - 0s 2ms/step - loss: 0.7660 - accuracy: 0.6635\n",
            "Epoch 83/120\n",
            "212/212 [==============================] - 0s 2ms/step - loss: 0.7676 - accuracy: 0.6615\n",
            "Epoch 84/120\n",
            "212/212 [==============================] - 0s 2ms/step - loss: 0.7581 - accuracy: 0.6622\n",
            "Epoch 85/120\n",
            "212/212 [==============================] - 0s 2ms/step - loss: 0.7906 - accuracy: 0.6507\n",
            "Epoch 86/120\n",
            "212/212 [==============================] - 0s 2ms/step - loss: 0.7740 - accuracy: 0.6615\n",
            "Epoch 87/120\n",
            "212/212 [==============================] - 0s 2ms/step - loss: 0.7646 - accuracy: 0.6568\n",
            "Epoch 88/120\n",
            "212/212 [==============================] - 0s 2ms/step - loss: 0.7620 - accuracy: 0.6669\n",
            "Epoch 89/120\n",
            "212/212 [==============================] - 0s 2ms/step - loss: 0.7799 - accuracy: 0.6493\n",
            "Epoch 90/120\n",
            "212/212 [==============================] - 0s 2ms/step - loss: 0.7637 - accuracy: 0.6649\n",
            "Epoch 91/120\n",
            "212/212 [==============================] - 0s 2ms/step - loss: 0.7774 - accuracy: 0.6527\n",
            "Epoch 92/120\n",
            "212/212 [==============================] - 0s 2ms/step - loss: 0.7642 - accuracy: 0.6662\n",
            "Epoch 93/120\n",
            "212/212 [==============================] - 0s 2ms/step - loss: 0.7531 - accuracy: 0.6777\n",
            "Epoch 94/120\n",
            "212/212 [==============================] - 0s 2ms/step - loss: 0.7702 - accuracy: 0.6642\n",
            "Epoch 95/120\n",
            "212/212 [==============================] - 0s 2ms/step - loss: 0.7700 - accuracy: 0.6581\n",
            "Epoch 96/120\n",
            "212/212 [==============================] - 0s 2ms/step - loss: 0.7660 - accuracy: 0.6635\n",
            "Epoch 97/120\n",
            "212/212 [==============================] - 0s 2ms/step - loss: 0.7562 - accuracy: 0.6649\n",
            "Epoch 98/120\n",
            "212/212 [==============================] - 0s 2ms/step - loss: 0.7649 - accuracy: 0.6561\n",
            "Epoch 99/120\n",
            "212/212 [==============================] - 0s 2ms/step - loss: 0.7517 - accuracy: 0.6649\n",
            "Epoch 100/120\n",
            "212/212 [==============================] - 0s 2ms/step - loss: 0.7695 - accuracy: 0.6514\n",
            "Epoch 101/120\n",
            "212/212 [==============================] - 0s 2ms/step - loss: 0.7604 - accuracy: 0.6750\n",
            "Epoch 102/120\n",
            "212/212 [==============================] - 0s 2ms/step - loss: 0.7631 - accuracy: 0.6696\n",
            "Epoch 103/120\n",
            "212/212 [==============================] - 0s 2ms/step - loss: 0.7604 - accuracy: 0.6642\n",
            "Epoch 104/120\n",
            "212/212 [==============================] - 0s 2ms/step - loss: 0.7479 - accuracy: 0.6784\n",
            "Epoch 105/120\n",
            "212/212 [==============================] - 0s 2ms/step - loss: 0.7754 - accuracy: 0.6547\n",
            "Epoch 106/120\n",
            "212/212 [==============================] - 0s 2ms/step - loss: 0.7498 - accuracy: 0.6723\n",
            "Epoch 107/120\n",
            "212/212 [==============================] - 0s 2ms/step - loss: 0.7687 - accuracy: 0.6655\n",
            "Epoch 108/120\n",
            "212/212 [==============================] - 0s 2ms/step - loss: 0.7746 - accuracy: 0.6588\n",
            "Epoch 109/120\n",
            "212/212 [==============================] - 0s 2ms/step - loss: 0.7583 - accuracy: 0.6743\n",
            "Epoch 110/120\n",
            "212/212 [==============================] - 0s 2ms/step - loss: 0.7663 - accuracy: 0.6635\n",
            "Epoch 111/120\n",
            "212/212 [==============================] - 0s 2ms/step - loss: 0.7629 - accuracy: 0.6649\n",
            "Epoch 112/120\n",
            "212/212 [==============================] - 0s 2ms/step - loss: 0.7568 - accuracy: 0.6703\n",
            "Epoch 113/120\n",
            "212/212 [==============================] - 0s 2ms/step - loss: 0.7662 - accuracy: 0.6669\n",
            "Epoch 114/120\n",
            "212/212 [==============================] - 0s 2ms/step - loss: 0.7560 - accuracy: 0.6642\n",
            "Epoch 115/120\n",
            "212/212 [==============================] - 0s 2ms/step - loss: 0.7482 - accuracy: 0.6689\n",
            "Epoch 116/120\n",
            "212/212 [==============================] - 0s 2ms/step - loss: 0.7555 - accuracy: 0.6635\n",
            "Epoch 117/120\n",
            "212/212 [==============================] - 0s 2ms/step - loss: 0.7558 - accuracy: 0.6608\n",
            "Epoch 118/120\n",
            "212/212 [==============================] - 0s 2ms/step - loss: 0.7586 - accuracy: 0.6642\n",
            "Epoch 119/120\n",
            "212/212 [==============================] - 0s 2ms/step - loss: 0.7524 - accuracy: 0.6676\n",
            "Epoch 120/120\n",
            "212/212 [==============================] - 0s 2ms/step - loss: 0.7829 - accuracy: 0.6561\n"
          ]
        },
        {
          "output_type": "execute_result",
          "data": {
            "text/plain": [
              "<keras.callbacks.History at 0x7fda859c4d90>"
            ]
          },
          "metadata": {},
          "execution_count": 10
        }
      ],
      "source": [
        "clf.fit(X_train,y_train,batch_size=7,epochs=120)"
      ]
    },
    {
      "cell_type": "code",
      "execution_count": 11,
      "metadata": {
        "colab": {
          "base_uri": "https://localhost:8080/"
        },
        "id": "Oth77Z_UcMBR",
        "outputId": "eb2e503b-42b8-4114-ee29-0b12d43f65d9"
      },
      "outputs": [
        {
          "output_type": "stream",
          "name": "stdout",
          "text": [
            "11/11 [==============================] - 0s 1ms/step\n"
          ]
        }
      ],
      "source": [
        "y_prediction = clf.predict(X_test)"
      ]
    },
    {
      "cell_type": "code",
      "execution_count": 12,
      "metadata": {
        "colab": {
          "base_uri": "https://localhost:8080/"
        },
        "id": "sYSpu5SvcMBS",
        "outputId": "b8c4cf53-2bd5-4108-b418-2184f4f348f9"
      },
      "outputs": [
        {
          "output_type": "execute_result",
          "data": {
            "text/plain": [
              "array([[1.3037382e-03, 1.0925069e-01, 7.7335119e-01, 1.1609061e-01,\n",
              "        3.6645683e-06],\n",
              "       [7.9435399e-03, 3.3927247e-01, 6.3159734e-01, 2.1186581e-02,\n",
              "        1.6695687e-08],\n",
              "       [4.2092759e-04, 3.5146993e-02, 4.6921718e-01, 4.9000356e-01,\n",
              "        5.2113216e-03],\n",
              "       ...,\n",
              "       [2.2913206e-04, 2.4053702e-02, 5.0588405e-01, 4.6755454e-01,\n",
              "        2.2785764e-03],\n",
              "       [4.3697419e-04, 4.0953055e-02, 6.2284595e-01, 3.3538789e-01,\n",
              "        3.7612097e-04],\n",
              "       [1.0404068e-09, 5.1863943e-03, 2.1316914e-02, 3.6346760e-01,\n",
              "        6.1002910e-01]], dtype=float32)"
            ]
          },
          "metadata": {},
          "execution_count": 12
        }
      ],
      "source": [
        "y_prediction"
      ]
    },
    {
      "cell_type": "code",
      "execution_count": 13,
      "metadata": {
        "id": "vUkhRt4gcMBS"
      },
      "outputs": [],
      "source": [
        "y_pred = np.argmax(y_prediction, axis=1)"
      ]
    },
    {
      "cell_type": "code",
      "execution_count": 14,
      "metadata": {
        "colab": {
          "base_uri": "https://localhost:8080/"
        },
        "id": "klZBHlxDcMBS",
        "outputId": "7b3f7d04-2830-4568-9ac9-10b318842fda"
      },
      "outputs": [
        {
          "output_type": "execute_result",
          "data": {
            "text/plain": [
              "(325,)"
            ]
          },
          "metadata": {},
          "execution_count": 14
        }
      ],
      "source": [
        "y_pred.shape"
      ]
    },
    {
      "cell_type": "code",
      "execution_count": 15,
      "metadata": {
        "id": "ttQHmgiIcMBS"
      },
      "outputs": [],
      "source": [
        "cm = confusion_matrix(y_test,y_pred)"
      ]
    },
    {
      "cell_type": "code",
      "execution_count": 16,
      "metadata": {
        "colab": {
          "base_uri": "https://localhost:8080/",
          "height": 283
        },
        "id": "8-2VtN2jcMBS",
        "outputId": "26808d14-451d-4995-8b40-5c555b711fac"
      },
      "outputs": [
        {
          "output_type": "execute_result",
          "data": {
            "text/plain": [
              "<matplotlib.axes._subplots.AxesSubplot at 0x7fda8220bf70>"
            ]
          },
          "metadata": {},
          "execution_count": 16
        },
        {
          "output_type": "display_data",
          "data": {
            "text/plain": [
              "<Figure size 432x288 with 2 Axes>"
            ],
            "image/png": "[encoded data removed]"
          },
          "metadata": {
            "needs_background": "light"
          }
        }
      ],
      "source": [
        "sns.heatmap(cm, annot=True)"
      ]
    },
    {
      "cell_type": "code",
      "execution_count": 17,
      "metadata": {
        "colab": {
          "base_uri": "https://localhost:8080/"
        },
        "id": "zowSypI8cMBS",
        "outputId": "7691501e-8d44-41aa-89fc-41deb20242f5"
      },
      "outputs": [
        {
          "output_type": "execute_result",
          "data": {
            "text/plain": [
              "0.5323076923076923"
            ]
          },
          "metadata": {},
          "execution_count": 17
        }
      ],
      "source": [
        "from sklearn.metrics import accuracy_score\n",
        "accuracy_score(y_test, y_pred)"
      ]
    }
  ],
  "metadata": {
    "kernelspec": {
      "display_name": "Python 3 (ipykernel)",
      "language": "python",
      "name": "python3"
    },
    "language_info": {
      "codemirror_mode": {
        "name": "ipython",
        "version": 3
      },
      "file_extension": ".py",
      "mimetype": "text/x-python",
      "name": "python",
      "nbconvert_exporter": "python",
      "pygments_lexer": "ipython3",
      "version": "3.9.13"
    },
    "colab": {
      "provenance": [],
      "include_colab_link": true
    }
  },
  "nbformat": 4,
  "nbformat_minor": 0
}